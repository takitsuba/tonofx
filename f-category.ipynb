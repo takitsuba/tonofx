{
 "cells": [
  {
   "cell_type": "markdown",
   "metadata": {},
   "source": [
    "+ 予測をone-hotに変更する：○\n",
    "+ 前日との比率もとる\n",
    "+ 最大値、最小値との差分をとる"
   ]
  },
  {
   "cell_type": "code",
   "execution_count": 1,
   "metadata": {
    "collapsed": true
   },
   "outputs": [],
   "source": [
    "import numpy as np\n",
    "import pandas as pd\n",
    "import matplotlib.pyplot as plt\n",
    "import tensorflow as tf\n",
    "from sklearn.model_selection import train_test_split\n",
    "from sklearn.utils import shuffle\n",
    "% matplotlib inline\n",
    "\n",
    "\n",
    "input_folder = \"./input/\"\n",
    "\n",
    "df = pd.read_csv(input_folder+\"EURUSD_M1_201706_with_signal.csv\")\n",
    "\n",
    "df_columns = list(\"ohlc\")\n",
    "for c in df_columns:\n",
    "    a = np.array(df[c])\n",
    "    # 前日との差分(正規化含む)\n",
    "    diff = np.concatenate((np.array([0]),a[1:]-a[:-1]))\n",
    "    df[c+\"_diff\"] = (diff - diff.mean())/diff.std()\n",
    "    # 前日比(正規化含む)\n",
    "    ratio = np.concatenate((np.array([1]),a[1:]/a[:-1]))\n",
    "    df[c+\"_ratio\"] = (ratio - ratio.mean())/ratio.std()\n",
    "\n",
    "# ohlc列の正規化\n",
    "ohlc_array = np.array(df[df_columns])\n",
    "df[df_columns] = (ohlc_array - ohlc_array.flatten().mean()) / ohlc_array.flatten().std()"
   ]
  },
  {
   "cell_type": "code",
   "execution_count": 2,
   "metadata": {},
   "outputs": [
    {
     "data": {
      "text/html": [
       "<div>\n",
       "<style>\n",
       "    .dataframe thead tr:only-child th {\n",
       "        text-align: right;\n",
       "    }\n",
       "\n",
       "    .dataframe thead th {\n",
       "        text-align: left;\n",
       "    }\n",
       "\n",
       "    .dataframe tbody tr th {\n",
       "        vertical-align: top;\n",
       "    }\n",
       "</style>\n",
       "<table border=\"1\" class=\"dataframe\">\n",
       "  <thead>\n",
       "    <tr style=\"text-align: right;\">\n",
       "      <th></th>\n",
       "      <th>datetime</th>\n",
       "      <th>datetime.1</th>\n",
       "      <th>o</th>\n",
       "      <th>h</th>\n",
       "      <th>l</th>\n",
       "      <th>c</th>\n",
       "      <th>v</th>\n",
       "      <th>signal</th>\n",
       "      <th>o_diff</th>\n",
       "      <th>o_ratio</th>\n",
       "      <th>h_diff</th>\n",
       "      <th>h_ratio</th>\n",
       "      <th>l_diff</th>\n",
       "      <th>l_ratio</th>\n",
       "      <th>c_diff</th>\n",
       "      <th>c_ratio</th>\n",
       "    </tr>\n",
       "  </thead>\n",
       "  <tbody>\n",
       "    <tr>\n",
       "      <th>0</th>\n",
       "      <td>2017-06-01 00:00:00</td>\n",
       "      <td>2017-06-01 00:00:00</td>\n",
       "      <td>0.188061</td>\n",
       "      <td>0.188061</td>\n",
       "      <td>0.175347</td>\n",
       "      <td>0.175347</td>\n",
       "      <td>0</td>\n",
       "      <td>0</td>\n",
       "      <td>-0.004036</td>\n",
       "      <td>-0.004072</td>\n",
       "      <td>-0.004459</td>\n",
       "      <td>-0.004487</td>\n",
       "      <td>-0.004459</td>\n",
       "      <td>-0.004487</td>\n",
       "      <td>-0.004105</td>\n",
       "      <td>-0.004141</td>\n",
       "    </tr>\n",
       "    <tr>\n",
       "      <th>1</th>\n",
       "      <td>2017-06-01 00:01:00</td>\n",
       "      <td>2017-06-01 00:01:00</td>\n",
       "      <td>0.174075</td>\n",
       "      <td>0.185518</td>\n",
       "      <td>0.174075</td>\n",
       "      <td>0.181704</td>\n",
       "      <td>0</td>\n",
       "      <td>0</td>\n",
       "      <td>-0.800418</td>\n",
       "      <td>-0.801547</td>\n",
       "      <td>-0.161361</td>\n",
       "      <td>-0.161599</td>\n",
       "      <td>-0.083995</td>\n",
       "      <td>-0.084138</td>\n",
       "      <td>0.356626</td>\n",
       "      <td>0.357114</td>\n",
       "    </tr>\n",
       "    <tr>\n",
       "      <th>2</th>\n",
       "      <td>2017-06-01 00:02:00</td>\n",
       "      <td>2017-06-01 00:02:00</td>\n",
       "      <td>0.184247</td>\n",
       "      <td>0.184247</td>\n",
       "      <td>0.174075</td>\n",
       "      <td>0.174075</td>\n",
       "      <td>0</td>\n",
       "      <td>0</td>\n",
       "      <td>0.575151</td>\n",
       "      <td>0.575967</td>\n",
       "      <td>-0.082910</td>\n",
       "      <td>-0.083044</td>\n",
       "      <td>-0.004459</td>\n",
       "      <td>-0.004487</td>\n",
       "      <td>-0.436982</td>\n",
       "      <td>-0.437627</td>\n",
       "    </tr>\n",
       "    <tr>\n",
       "      <th>3</th>\n",
       "      <td>2017-06-01 00:03:00</td>\n",
       "      <td>2017-06-01 00:03:00</td>\n",
       "      <td>0.172804</td>\n",
       "      <td>0.172804</td>\n",
       "      <td>0.166446</td>\n",
       "      <td>0.166446</td>\n",
       "      <td>0</td>\n",
       "      <td>0</td>\n",
       "      <td>-0.655621</td>\n",
       "      <td>-0.656569</td>\n",
       "      <td>-0.710520</td>\n",
       "      <td>-0.711509</td>\n",
       "      <td>-0.481674</td>\n",
       "      <td>-0.482394</td>\n",
       "      <td>-0.436982</td>\n",
       "      <td>-0.437650</td>\n",
       "    </tr>\n",
       "    <tr>\n",
       "      <th>4</th>\n",
       "      <td>2017-06-01 00:04:00</td>\n",
       "      <td>2017-06-01 00:04:00</td>\n",
       "      <td>0.166446</td>\n",
       "      <td>0.166446</td>\n",
       "      <td>0.166446</td>\n",
       "      <td>0.166446</td>\n",
       "      <td>0</td>\n",
       "      <td>0</td>\n",
       "      <td>-0.366028</td>\n",
       "      <td>-0.366599</td>\n",
       "      <td>-0.396715</td>\n",
       "      <td>-0.397308</td>\n",
       "      <td>-0.004459</td>\n",
       "      <td>-0.004487</td>\n",
       "      <td>-0.004105</td>\n",
       "      <td>-0.004141</td>\n",
       "    </tr>\n",
       "  </tbody>\n",
       "</table>\n",
       "</div>"
      ],
      "text/plain": [
       "              datetime           datetime.1         o         h         l  \\\n",
       "0  2017-06-01 00:00:00  2017-06-01 00:00:00  0.188061  0.188061  0.175347   \n",
       "1  2017-06-01 00:01:00  2017-06-01 00:01:00  0.174075  0.185518  0.174075   \n",
       "2  2017-06-01 00:02:00  2017-06-01 00:02:00  0.184247  0.184247  0.174075   \n",
       "3  2017-06-01 00:03:00  2017-06-01 00:03:00  0.172804  0.172804  0.166446   \n",
       "4  2017-06-01 00:04:00  2017-06-01 00:04:00  0.166446  0.166446  0.166446   \n",
       "\n",
       "          c  v  signal    o_diff   o_ratio    h_diff   h_ratio    l_diff  \\\n",
       "0  0.175347  0       0 -0.004036 -0.004072 -0.004459 -0.004487 -0.004459   \n",
       "1  0.181704  0       0 -0.800418 -0.801547 -0.161361 -0.161599 -0.083995   \n",
       "2  0.174075  0       0  0.575151  0.575967 -0.082910 -0.083044 -0.004459   \n",
       "3  0.166446  0       0 -0.655621 -0.656569 -0.710520 -0.711509 -0.481674   \n",
       "4  0.166446  0       0 -0.366028 -0.366599 -0.396715 -0.397308 -0.004459   \n",
       "\n",
       "    l_ratio    c_diff   c_ratio  \n",
       "0 -0.004487 -0.004105 -0.004141  \n",
       "1 -0.084138  0.356626  0.357114  \n",
       "2 -0.004487 -0.436982 -0.437627  \n",
       "3 -0.482394 -0.436982 -0.437650  \n",
       "4 -0.004487 -0.004105 -0.004141  "
      ]
     },
     "execution_count": 2,
     "metadata": {},
     "output_type": "execute_result"
    }
   ],
   "source": [
    "df.head()"
   ]
  },
  {
   "cell_type": "code",
   "execution_count": 3,
   "metadata": {},
   "outputs": [
    {
     "data": {
      "text/plain": [
       "[<matplotlib.lines.Line2D at 0x1138e7c88>,\n",
       " <matplotlib.lines.Line2D at 0x1138e7e80>,\n",
       " <matplotlib.lines.Line2D at 0x1138f30b8>,\n",
       " <matplotlib.lines.Line2D at 0x1138f32b0>]"
      ]
     },
     "execution_count": 3,
     "metadata": {},
     "output_type": "execute_result"
    },
    {
     "data": {
      "image/png": "[encoded data removed]",
      "text/plain": [
       "<matplotlib.figure.Figure at 0x112124cf8>"
      ]
     },
     "metadata": {},
     "output_type": "display_data"
    }
   ],
   "source": [
    "plt.plot(df[df_columns])"
   ]
  },
  {
   "cell_type": "code",
   "execution_count": 4,
   "metadata": {},
   "outputs": [
    {
     "data": {
      "text/html": [
       "<div>\n",
       "<style>\n",
       "    .dataframe thead tr:only-child th {\n",
       "        text-align: right;\n",
       "    }\n",
       "\n",
       "    .dataframe thead th {\n",
       "        text-align: left;\n",
       "    }\n",
       "\n",
       "    .dataframe tbody tr th {\n",
       "        vertical-align: top;\n",
       "    }\n",
       "</style>\n",
       "<table border=\"1\" class=\"dataframe\">\n",
       "  <thead>\n",
       "    <tr style=\"text-align: right;\">\n",
       "      <th></th>\n",
       "      <th>o</th>\n",
       "      <th>h</th>\n",
       "      <th>l</th>\n",
       "      <th>c</th>\n",
       "      <th>v</th>\n",
       "      <th>signal</th>\n",
       "      <th>o_diff</th>\n",
       "      <th>o_ratio</th>\n",
       "      <th>h_diff</th>\n",
       "      <th>h_ratio</th>\n",
       "      <th>l_diff</th>\n",
       "      <th>l_ratio</th>\n",
       "      <th>c_diff</th>\n",
       "      <th>c_ratio</th>\n",
       "    </tr>\n",
       "  </thead>\n",
       "  <tbody>\n",
       "    <tr>\n",
       "      <th>count</th>\n",
       "      <td>31194.000000</td>\n",
       "      <td>31194.000000</td>\n",
       "      <td>31194.000000</td>\n",
       "      <td>31194.000000</td>\n",
       "      <td>31194.0</td>\n",
       "      <td>31194.000000</td>\n",
       "      <td>3.119400e+04</td>\n",
       "      <td>3.119400e+04</td>\n",
       "      <td>3.119400e+04</td>\n",
       "      <td>3.119400e+04</td>\n",
       "      <td>3.119400e+04</td>\n",
       "      <td>3.119400e+04</td>\n",
       "      <td>3.119400e+04</td>\n",
       "      <td>3.119400e+04</td>\n",
       "    </tr>\n",
       "    <tr>\n",
       "      <th>mean</th>\n",
       "      <td>-0.000010</td>\n",
       "      <td>0.008754</td>\n",
       "      <td>-0.008680</td>\n",
       "      <td>-0.000063</td>\n",
       "      <td>0.0</td>\n",
       "      <td>0.023594</td>\n",
       "      <td>-6.377892e-18</td>\n",
       "      <td>-2.337516e-13</td>\n",
       "      <td>9.111274e-19</td>\n",
       "      <td>-7.540691e-13</td>\n",
       "      <td>-8.200147e-18</td>\n",
       "      <td>1.179615e-12</td>\n",
       "      <td>-1.002240e-17</td>\n",
       "      <td>-8.860168e-13</td>\n",
       "    </tr>\n",
       "    <tr>\n",
       "      <th>std</th>\n",
       "      <td>0.999929</td>\n",
       "      <td>1.001108</td>\n",
       "      <td>0.998932</td>\n",
       "      <td>1.000018</td>\n",
       "      <td>0.0</td>\n",
       "      <td>0.367754</td>\n",
       "      <td>1.000016e+00</td>\n",
       "      <td>1.000016e+00</td>\n",
       "      <td>1.000016e+00</td>\n",
       "      <td>1.000016e+00</td>\n",
       "      <td>1.000016e+00</td>\n",
       "      <td>1.000016e+00</td>\n",
       "      <td>1.000016e+00</td>\n",
       "      <td>1.000016e+00</td>\n",
       "    </tr>\n",
       "    <tr>\n",
       "      <th>min</th>\n",
       "      <td>-1.430549</td>\n",
       "      <td>-1.428006</td>\n",
       "      <td>-1.439450</td>\n",
       "      <td>-1.434364</td>\n",
       "      <td>0.0</td>\n",
       "      <td>-1.000000</td>\n",
       "      <td>-5.502677e+01</td>\n",
       "      <td>-5.447227e+01</td>\n",
       "      <td>-4.621221e+01</td>\n",
       "      <td>-4.574322e+01</td>\n",
       "      <td>-6.156509e+01</td>\n",
       "      <td>-6.094561e+01</td>\n",
       "      <td>-5.497947e+01</td>\n",
       "      <td>-5.442395e+01</td>\n",
       "    </tr>\n",
       "    <tr>\n",
       "      <th>25%</th>\n",
       "      <td>-0.663521</td>\n",
       "      <td>-0.656210</td>\n",
       "      <td>-0.672739</td>\n",
       "      <td>-0.663839</td>\n",
       "      <td>0.0</td>\n",
       "      <td>0.000000</td>\n",
       "      <td>-3.660277e-01</td>\n",
       "      <td>-3.679609e-01</td>\n",
       "      <td>-3.967150e-01</td>\n",
       "      <td>-3.915441e-01</td>\n",
       "      <td>-3.226022e-01</td>\n",
       "      <td>-3.245718e-01</td>\n",
       "      <td>-3.648360e-01</td>\n",
       "      <td>-3.670143e-01</td>\n",
       "    </tr>\n",
       "    <tr>\n",
       "      <th>50%</th>\n",
       "      <td>-0.283662</td>\n",
       "      <td>-0.274762</td>\n",
       "      <td>-0.291291</td>\n",
       "      <td>-0.283027</td>\n",
       "      <td>0.0</td>\n",
       "      <td>0.000000</td>\n",
       "      <td>-4.036055e-03</td>\n",
       "      <td>-4.072017e-03</td>\n",
       "      <td>-4.458998e-03</td>\n",
       "      <td>-4.486724e-03</td>\n",
       "      <td>-4.459445e-03</td>\n",
       "      <td>-4.487357e-03</td>\n",
       "      <td>-4.105258e-03</td>\n",
       "      <td>-4.140674e-03</td>\n",
       "    </tr>\n",
       "    <tr>\n",
       "      <th>75%</th>\n",
       "      <td>0.419473</td>\n",
       "      <td>0.427102</td>\n",
       "      <td>0.411526</td>\n",
       "      <td>0.419473</td>\n",
       "      <td>0.0</td>\n",
       "      <td>0.000000</td>\n",
       "      <td>3.579556e-01</td>\n",
       "      <td>3.602208e-01</td>\n",
       "      <td>3.093458e-01</td>\n",
       "      <td>3.123060e-01</td>\n",
       "      <td>3.932190e-01</td>\n",
       "      <td>3.892540e-01</td>\n",
       "      <td>3.566255e-01</td>\n",
       "      <td>3.596753e-01</td>\n",
       "    </tr>\n",
       "    <tr>\n",
       "      <th>max</th>\n",
       "      <td>2.709432</td>\n",
       "      <td>2.713246</td>\n",
       "      <td>2.703075</td>\n",
       "      <td>2.709432</td>\n",
       "      <td>0.0</td>\n",
       "      <td>1.000000</td>\n",
       "      <td>1.809555e+01</td>\n",
       "      <td>1.817078e+01</td>\n",
       "      <td>2.823797e+01</td>\n",
       "      <td>2.805065e+01</td>\n",
       "      <td>1.948179e+01</td>\n",
       "      <td>1.956240e+01</td>\n",
       "      <td>1.853746e+01</td>\n",
       "      <td>1.861434e+01</td>\n",
       "    </tr>\n",
       "  </tbody>\n",
       "</table>\n",
       "</div>"
      ],
      "text/plain": [
       "                  o             h             l             c        v  \\\n",
       "count  31194.000000  31194.000000  31194.000000  31194.000000  31194.0   \n",
       "mean      -0.000010      0.008754     -0.008680     -0.000063      0.0   \n",
       "std        0.999929      1.001108      0.998932      1.000018      0.0   \n",
       "min       -1.430549     -1.428006     -1.439450     -1.434364      0.0   \n",
       "25%       -0.663521     -0.656210     -0.672739     -0.663839      0.0   \n",
       "50%       -0.283662     -0.274762     -0.291291     -0.283027      0.0   \n",
       "75%        0.419473      0.427102      0.411526      0.419473      0.0   \n",
       "max        2.709432      2.713246      2.703075      2.709432      0.0   \n",
       "\n",
       "             signal        o_diff       o_ratio        h_diff       h_ratio  \\\n",
       "count  31194.000000  3.119400e+04  3.119400e+04  3.119400e+04  3.119400e+04   \n",
       "mean       0.023594 -6.377892e-18 -2.337516e-13  9.111274e-19 -7.540691e-13   \n",
       "std        0.367754  1.000016e+00  1.000016e+00  1.000016e+00  1.000016e+00   \n",
       "min       -1.000000 -5.502677e+01 -5.447227e+01 -4.621221e+01 -4.574322e+01   \n",
       "25%        0.000000 -3.660277e-01 -3.679609e-01 -3.967150e-01 -3.915441e-01   \n",
       "50%        0.000000 -4.036055e-03 -4.072017e-03 -4.458998e-03 -4.486724e-03   \n",
       "75%        0.000000  3.579556e-01  3.602208e-01  3.093458e-01  3.123060e-01   \n",
       "max        1.000000  1.809555e+01  1.817078e+01  2.823797e+01  2.805065e+01   \n",
       "\n",
       "             l_diff       l_ratio        c_diff       c_ratio  \n",
       "count  3.119400e+04  3.119400e+04  3.119400e+04  3.119400e+04  \n",
       "mean  -8.200147e-18  1.179615e-12 -1.002240e-17 -8.860168e-13  \n",
       "std    1.000016e+00  1.000016e+00  1.000016e+00  1.000016e+00  \n",
       "min   -6.156509e+01 -6.094561e+01 -5.497947e+01 -5.442395e+01  \n",
       "25%   -3.226022e-01 -3.245718e-01 -3.648360e-01 -3.670143e-01  \n",
       "50%   -4.459445e-03 -4.487357e-03 -4.105258e-03 -4.140674e-03  \n",
       "75%    3.932190e-01  3.892540e-01  3.566255e-01  3.596753e-01  \n",
       "max    1.948179e+01  1.956240e+01  1.853746e+01  1.861434e+01  "
      ]
     },
     "execution_count": 4,
     "metadata": {},
     "output_type": "execute_result"
    }
   ],
   "source": [
    "df.describe()"
   ]
  },
  {
   "cell_type": "code",
   "execution_count": 5,
   "metadata": {},
   "outputs": [
    {
     "data": {
      "text/plain": [
       "[<matplotlib.lines.Line2D at 0x11381e6a0>]"
      ]
     },
     "execution_count": 5,
     "metadata": {},
     "output_type": "execute_result"
    },
    {
     "data": {
      "image/png": "[encoded data removed]",
      "text/plain": [
       "<matplotlib.figure.Figure at 0x1139402b0>"
      ]
     },
     "metadata": {},
     "output_type": "display_data"
    }
   ],
   "source": [
    "fig,ax1 = plt.subplots(figsize=(10,10))\n",
    "ax1.plot(df[[\"o\",\"h\",\"l\",\"c\"]])\n",
    "ax2 = ax1.twinx()\n",
    "ax2.plot(df[\"signal\"])"
   ]
  },
  {
   "cell_type": "markdown",
   "metadata": {},
   "source": [
    "# LSTM"
   ]
  },
  {
   "cell_type": "markdown",
   "metadata": {},
   "source": [
    "https://github.com/yusugomori/deeplearning-tensorflow-keras/blob/master/5/tensorflow/01_00_sin_simple_lstm_tensorflow.r1.2.py"
   ]
  },
  {
   "cell_type": "code",
   "execution_count": 6,
   "metadata": {
    "collapsed": true
   },
   "outputs": [],
   "source": [
    "np.random.seed(0)\n",
    "tf.set_random_seed(1234)"
   ]
  },
  {
   "cell_type": "code",
   "execution_count": 7,
   "metadata": {
    "collapsed": true
   },
   "outputs": [],
   "source": [
    "def inference(x, n_batch, maxlen=None, n_hidden=None, n_out=None):\n",
    "    def weight_variable(shape):\n",
    "        initial = tf.truncated_normal(shape, stddev=0.01)\n",
    "        return tf.Variable(initial)\n",
    "\n",
    "    def bias_variable(shape):\n",
    "        initial = tf.zeros(shape, dtype=tf.float32)\n",
    "        return tf.Variable(initial)\n",
    "\n",
    "    cell = tf.contrib.rnn.BasicLSTMCell(n_hidden, forget_bias=1.0)\n",
    "    initial_state = cell.zero_state(n_batch, tf.float32)\n",
    "\n",
    "    state = initial_state\n",
    "    outputs = []  # 過去の隠れ層の出力を保存\n",
    "    with tf.variable_scope('LSTM'):\n",
    "        for t in range(maxlen):\n",
    "            if t > 0:\n",
    "                tf.get_variable_scope().reuse_variables()\n",
    "            (cell_output, state) = cell(x[:, t, :], state)\n",
    "            outputs.append(cell_output)\n",
    "\n",
    "    output = outputs[-1]\n",
    "\n",
    "    V = weight_variable([n_hidden, n_out])\n",
    "    c = bias_variable([n_out])\n",
    "#     y = tf.matmul(output, V) + c  # 線形活性\n",
    "    # softmax\n",
    "    y = tf.nn.softmax(tf.matmul(output, V) + c)\n",
    "    \n",
    "\n",
    "    return y"
   ]
  },
  {
   "cell_type": "code",
   "execution_count": 8,
   "metadata": {
    "collapsed": true
   },
   "outputs": [],
   "source": [
    "def loss(y, t):\n",
    "#     mse = tf.reduce_mean(tf.square(y - t))\n",
    "#     return mse\n",
    "    cross_entropy = \\\n",
    "    tf.reduce_mean(-tf.reduce_sum(\n",
    "                   t * tf.log(tf.clip_by_value(y, 1e-10, 1.0)),\n",
    "                   reduction_indices=[1]))\n",
    "    return cross_entropy\n",
    "\n",
    "\n",
    "def training(loss):\n",
    "    optimizer = \\\n",
    "        tf.train.AdamOptimizer(learning_rate=0.1, beta1=0.9, beta2=0.999)\n",
    "\n",
    "    train_step = optimizer.minimize(loss)\n",
    "    return train_step"
   ]
  },
  {
   "cell_type": "code",
   "execution_count": 9,
   "metadata": {
    "collapsed": true
   },
   "outputs": [],
   "source": [
    "class EarlyStopping():\n",
    "    def __init__(self, patience=0, verbose=0):\n",
    "        self._step = 0\n",
    "        self._loss = float('inf')\n",
    "        self.patience = patience\n",
    "        self.verbose = verbose\n",
    "\n",
    "    def validate(self, loss):\n",
    "        if self._loss < loss:\n",
    "            self._step += 1\n",
    "            if self._step > self.patience:\n",
    "                if self.verbose:\n",
    "                    print('early stopping')\n",
    "                return True\n",
    "        else:\n",
    "            self._step = 0\n",
    "            self._loss = loss\n",
    "\n",
    "        return False"
   ]
  },
  {
   "cell_type": "markdown",
   "metadata": {},
   "source": [
    "# 学習"
   ]
  },
  {
   "cell_type": "code",
   "execution_count": 11,
   "metadata": {
    "collapsed": true
   },
   "outputs": [],
   "source": [
    "df.shape\n",
    "length_of_sequences = df.shape[0]"
   ]
  },
  {
   "cell_type": "code",
   "execution_count": 12,
   "metadata": {},
   "outputs": [
    {
     "data": {
      "text/plain": [
       "31194"
      ]
     },
     "execution_count": 12,
     "metadata": {},
     "output_type": "execute_result"
    }
   ],
   "source": [
    "length_of_sequences"
   ]
  },
  {
   "cell_type": "code",
   "execution_count": 21,
   "metadata": {},
   "outputs": [
    {
     "data": {
      "text/plain": [
       "array([ 0.,  0.,  0., ...,  0.,  0.,  0.])"
      ]
     },
     "execution_count": 21,
     "metadata": {},
     "output_type": "execute_result"
    }
   ],
   "source": [
    "f[:,-1]"
   ]
  },
  {
   "cell_type": "code",
   "execution_count": 24,
   "metadata": {},
   "outputs": [],
   "source": [
    "# np.arrayに変更\n",
    "# 7番目(目的変数)を最後に\n",
    "column_num = [2,3,4,5,8,9,10,11,12,13,14,15,7]\n",
    "f = np.array(df[df.columns[column_num]])"
   ]
  },
  {
   "cell_type": "code",
   "execution_count": 25,
   "metadata": {},
   "outputs": [
    {
     "data": {
      "text/plain": [
       "13"
      ]
     },
     "execution_count": 25,
     "metadata": {},
     "output_type": "execute_result"
    }
   ],
   "source": [
    "len(column_num)"
   ]
  },
  {
   "cell_type": "code",
   "execution_count": 26,
   "metadata": {
    "collapsed": true
   },
   "outputs": [],
   "source": [
    "# データの生成\n",
    "# 学習に用いる長さ(要調整)\n",
    "maxlen = 100\n",
    "\n",
    "data = []\n",
    "target = []\n",
    "for i in range(0,length_of_sequences - maxlen):\n",
    "    data.append(f[i:i+maxlen,0:-1])\n",
    "    target.append(f[i+maxlen,-1])"
   ]
  },
  {
   "cell_type": "code",
   "execution_count": 27,
   "metadata": {
    "collapsed": true
   },
   "outputs": [],
   "source": [
    "X = np.array(data).reshape(len(data), maxlen, len(column_num)-1)\n",
    "# \n",
    "y = np.array(target)\n",
    "Y = np.eye(3)[y.astype(int)]\n",
    "# Y = np.array(target).reshape(len(data), 1)"
   ]
  },
  {
   "cell_type": "code",
   "execution_count": 28,
   "metadata": {
    "collapsed": true
   },
   "outputs": [],
   "source": [
    "# サンプル数の設定\n",
    "N_train = int(len(data)*0.9)\n",
    "N_validation = len(data) - N_train\n",
    "\n",
    "X_train, X_validation, Y_train, Y_validation = \\\n",
    "    train_test_split(X, Y, test_size=N_validation)"
   ]
  },
  {
   "cell_type": "code",
   "execution_count": 29,
   "metadata": {},
   "outputs": [],
   "source": [
    "# モデル設定\n",
    "n_in = len(X[0][0])  # 4\n",
    "n_hidden = 30\n",
    "n_out = len(Y[0])  # 3\n",
    "\n",
    "x = tf.placeholder(tf.float32, shape=[None, maxlen, n_in])\n",
    "t = tf.placeholder(tf.float32, shape=[None, n_out])\n",
    "n_batch = tf.placeholder(tf.int32, shape=[])\n",
    "\n",
    "y = inference(x, n_batch, maxlen=maxlen, n_hidden=n_hidden, n_out=n_out)\n",
    "loss = loss(y, t)\n",
    "train_step = training(loss)\n",
    "\n",
    "early_stopping = EarlyStopping(patience=10, verbose=1)\n",
    "history = {\n",
    "    'val_loss': []\n",
    "}"
   ]
  },
  {
   "cell_type": "code",
   "execution_count": 30,
   "metadata": {},
   "outputs": [
    {
     "name": "stdout",
     "output_type": "stream",
     "text": [
      "epoch: 0  validation loss: 0.589876\n",
      "epoch: 1  validation loss: 0.621608\n",
      "epoch: 2  validation loss: 0.601615\n",
      "epoch: 3  validation loss: 0.59857\n",
      "epoch: 4  validation loss: nan\n",
      "epoch: 5  validation loss: nan\n",
      "epoch: 6  validation loss: nan\n",
      "epoch: 7  validation loss: nan\n",
      "epoch: 8  validation loss: nan\n",
      "epoch: 9  validation loss: nan\n",
      "epoch: 10  validation loss: nan\n",
      "epoch: 11  validation loss: nan\n",
      "epoch: 12  validation loss: nan\n",
      "epoch: 13  validation loss: nan\n",
      "epoch: 14  validation loss: nan\n",
      "epoch: 15  validation loss: nan\n",
      "epoch: 16  validation loss: nan\n",
      "epoch: 17  validation loss: nan\n",
      "epoch: 18  validation loss: nan\n",
      "epoch: 19  validation loss: nan\n",
      "epoch: 20  validation loss: nan\n",
      "epoch: 21  validation loss: nan\n",
      "epoch: 22  validation loss: nan\n",
      "epoch: 23  validation loss: nan\n",
      "epoch: 24  validation loss: nan\n",
      "epoch: 25  validation loss: nan\n",
      "epoch: 26  validation loss: nan\n",
      "epoch: 27  validation loss: nan\n",
      "epoch: 28  validation loss: nan\n",
      "epoch: 29  validation loss: nan\n"
     ]
    }
   ],
   "source": [
    "# モデル学習\n",
    "epochs = 30\n",
    "batch_size = 10\n",
    "\n",
    "init = tf.global_variables_initializer()\n",
    "sess = tf.Session()\n",
    "sess.run(init)\n",
    "\n",
    "n_batches = N_train // batch_size\n",
    "\n",
    "for epoch in range(epochs):\n",
    "    X_, Y_ = shuffle(X_train,Y_train)\n",
    "    \n",
    "    for i in range(n_batches):\n",
    "        start = i * batch_size\n",
    "        end = start + batch_size\n",
    "        \n",
    "        sess.run(train_step, feed_dict={\n",
    "            x: X_[start:end],\n",
    "            t: Y_[start:end],\n",
    "            n_batch: batch_size\n",
    "        })\n",
    "        \n",
    "    val_loss = loss.eval(session=sess, feed_dict={\n",
    "        x: X_validation,\n",
    "        t: Y_validation,\n",
    "        n_batch: N_validation\n",
    "    })\n",
    "    \n",
    "    history['val_loss'].append(val_loss)\n",
    "    print('epoch:',epoch,\n",
    "         ' validation loss:',val_loss)\n",
    "    \n",
    "    # early stopping チェック\n",
    "    if early_stopping.validate(val_loss):\n",
    "        break\n",
    "    "
   ]
  },
  {
   "cell_type": "markdown",
   "metadata": {},
   "source": [
    "### 可視化"
   ]
  },
  {
   "cell_type": "code",
   "execution_count": 31,
   "metadata": {},
   "outputs": [
    {
     "name": "stdout",
     "output_type": "stream",
     "text": [
      "0\n",
      "1000\n",
      "2000\n",
      "3000\n",
      "4000\n",
      "5000\n",
      "6000\n",
      "7000\n",
      "8000\n",
      "9000\n",
      "10000\n",
      "11000\n",
      "12000\n",
      "13000\n",
      "14000\n",
      "15000\n",
      "16000\n",
      "17000\n",
      "18000\n",
      "19000\n",
      "20000\n",
      "21000\n",
      "22000\n",
      "23000\n",
      "24000\n",
      "25000\n",
      "26000\n",
      "27000\n",
      "28000\n",
      "29000\n",
      "30000\n",
      "31000\n"
     ]
    }
   ],
   "source": [
    "# 出力を用いて予測\n",
    "truncate = maxlen\n",
    "Z = X\n",
    "\n",
    "# 元データのo,h,l,cだけ持ってくる\n",
    "original = [f[i,:-1] for i in range(maxlen)]\n",
    "predicted = [None for i in range(maxlen)]\n",
    "\n",
    "# labelは下記\n",
    "labels = [0,1,-1]\n",
    "\n",
    "for i in range(length_of_sequences - maxlen):\n",
    "    # 最後の時系列データから未来を予測\n",
    "#     z_ = Z[-1:]\n",
    "    z_ = [Z[i]]\n",
    "    y_ = y.eval(session=sess,feed_dict={\n",
    "        x: z_,\n",
    "        n_batch: 1\n",
    "    })\n",
    "    \n",
    "#     sequence_ = np.concatenate((z_.reshape(maxlen, n_in)[1:], y_),axis=0).reshape(1, maxlen, n_in)\n",
    "#     Z = np.append(Z, sequence_, axis=0)\n",
    "    if i % 1000==0:\n",
    "        print(i)\n",
    "#     predicted.append(y_.reshape(-1))\n",
    "    predicted.append(labels[np.argmax(y_)])"
   ]
  },
  {
   "cell_type": "code",
   "execution_count": 32,
   "metadata": {},
   "outputs": [
    {
     "data": {
      "image/png": "[encoded data removed]",
      "text/plain": [
       "<matplotlib.figure.Figure at 0x1432c8fd0>"
      ]
     },
     "metadata": {},
     "output_type": "display_data"
    }
   ],
   "source": [
    "# グラフで可視化\n",
    "plt.rc('font', family='serif')\n",
    "fig,ax1 = plt.subplots()\n",
    "# ax1.ylim([-1.5, 1.5])\n",
    "# plt.plot(toy_problem(T, ampl=0), linestyle='dotted', color='#aaaaaa')\n",
    "ax1.plot(f[:,:-1], linestyle='dashed', color='black')\n",
    "ax2 = ax1.twinx()\n",
    "ax2.plot(f[:,-1],color=\"red\")\n",
    "ax2.plot(predicted, color='blue')\n",
    "plt.show()"
   ]
  },
  {
   "cell_type": "code",
   "execution_count": 34,
   "metadata": {},
   "outputs": [
    {
     "data": {
      "text/plain": [
       "{0, None}"
      ]
     },
     "execution_count": 34,
     "metadata": {},
     "output_type": "execute_result"
    }
   ],
   "source": [
    "set(predicted)"
   ]
  },
  {
   "cell_type": "code",
   "execution_count": null,
   "metadata": {
    "collapsed": true
   },
   "outputs": [],
   "source": []
  }
 ],
 "metadata": {
  "kernelspec": {
   "display_name": "Python 3",
   "language": "python",
   "name": "python3"
  },
  "language_info": {
   "codemirror_mode": {
    "name": "ipython",
    "version": 3
   },
   "file_extension": ".py",
   "mimetype": "text/x-python",
   "name": "python",
   "nbconvert_exporter": "python",
   "pygments_lexer": "ipython3",
   "version": "3.4.3"
  }
 },
 "nbformat": 4,
 "nbformat_minor": 2
}
